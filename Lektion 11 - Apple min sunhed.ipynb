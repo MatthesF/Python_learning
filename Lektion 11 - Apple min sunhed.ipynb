{
 "cells": [
  {
   "cell_type": "code",
   "execution_count": 2,
   "metadata": {},
   "outputs": [],
   "source": [
    "import pandas as pd\n",
    "import numpy as np\n",
    "import matplotlib.pyplot as plt"
   ]
  },
  {
   "cell_type": "code",
   "execution_count": 233,
   "metadata": {},
   "outputs": [],
   "source": [
    "df = pd.read_xml(\"/Users/matthesfogtmann/Desktop/apple_health_export/eksport.xml\")[2:]\n",
    "df2 = pd.read_xml(\"/Users/matthesfogtmann/Desktop/apple_health_export/export_cda.xml\")"
   ]
  },
  {
   "cell_type": "code",
   "execution_count": 234,
   "metadata": {},
   "outputs": [],
   "source": [
    "# getting values that only appear once and putting them in dictornary and removing column\n",
    "one_time_counts = {}\n",
    "for i in df.columns:\n",
    "    if df[i].value_counts().sum() <= 1:\n",
    "        one_time_counts.update({i:df[i].unique()[-1]})\n",
    "        df.drop(i,inplace=True,axis=1)"
   ]
  },
  {
   "cell_type": "code",
   "execution_count": 281,
   "metadata": {},
   "outputs": [],
   "source": [
    "df[\"startDate\"] = pd.to_datetime(df[\"startDate\"])\n",
    "df[\"endDate\"] = pd.to_datetime(df[\"endDate\"])"
   ]
  },
  {
   "cell_type": "code",
   "execution_count": 235,
   "metadata": {},
   "outputs": [],
   "source": [
    "#assigning only device name\n",
    "def device_finder(x):\n",
    "    try:\n",
    "        return x.split(\", \")[1][5:]\n",
    "    except:\n",
    "        return x"
   ]
  },
  {
   "cell_type": "code",
   "execution_count": 236,
   "metadata": {},
   "outputs": [],
   "source": [
    "df[\"device\"] = df[\"device\"].apply(device_finder)"
   ]
  },
  {
   "cell_type": "code",
   "execution_count": 237,
   "metadata": {},
   "outputs": [],
   "source": [
    "#removing text we dont need from values\n",
    "def HK_remover(x):\n",
    "    strings_to_replace = [\"HKQuantityTypeIdentifier\",\"HKCategoryTypeIdentifier\"]\n",
    "    for i in strings_to_replace:\n",
    "        try:\n",
    "            x = x.replace(i,\"\")\n",
    "        except:\n",
    "            pass\n",
    "    return x"
   ]
  },
  {
   "cell_type": "code",
   "execution_count": 238,
   "metadata": {},
   "outputs": [],
   "source": [
    "df[\"type\"] = df[\"type\"].apply(HKQuantityTypeIdentifie_remover)"
   ]
  },
  {
   "cell_type": "code",
   "execution_count": 239,
   "metadata": {},
   "outputs": [],
   "source": [
    "df.drop([\"sourceVersion\",\"creationDate\"],axis=1,inplace=True)"
   ]
  },
  {
   "cell_type": "code",
   "execution_count": 232,
   "metadata": {},
   "outputs": [
    {
     "data": {
      "text/html": [
       "<div>\n",
       "<style scoped>\n",
       "    .dataframe tbody tr th:only-of-type {\n",
       "        vertical-align: middle;\n",
       "    }\n",
       "\n",
       "    .dataframe tbody tr th {\n",
       "        vertical-align: top;\n",
       "    }\n",
       "\n",
       "    .dataframe thead th {\n",
       "        text-align: right;\n",
       "    }\n",
       "</style>\n",
       "<table border=\"1\" class=\"dataframe\">\n",
       "  <thead>\n",
       "    <tr style=\"text-align: right;\">\n",
       "      <th></th>\n",
       "      <th>value</th>\n",
       "      <th>type</th>\n",
       "      <th>sourceName</th>\n",
       "      <th>unit</th>\n",
       "      <th>startDate</th>\n",
       "      <th>endDate</th>\n",
       "      <th>device</th>\n",
       "    </tr>\n",
       "  </thead>\n",
       "  <tbody>\n",
       "    <tr>\n",
       "      <th>1</th>\n",
       "      <td>None</td>\n",
       "      <td>None</td>\n",
       "      <td>None</td>\n",
       "      <td>None</td>\n",
       "      <td>None</td>\n",
       "      <td>None</td>\n",
       "      <td>None</td>\n",
       "    </tr>\n",
       "    <tr>\n",
       "      <th>2</th>\n",
       "      <td>176</td>\n",
       "      <td>Height</td>\n",
       "      <td>Sundhed</td>\n",
       "      <td>cm</td>\n",
       "      <td>2019-10-19 17:31:56 +0200</td>\n",
       "      <td>2019-10-19 17:31:56 +0200</td>\n",
       "      <td>None</td>\n",
       "    </tr>\n",
       "    <tr>\n",
       "      <th>3</th>\n",
       "      <td>179</td>\n",
       "      <td>Height</td>\n",
       "      <td>Sundhed</td>\n",
       "      <td>cm</td>\n",
       "      <td>2021-10-15 17:19:30 +0200</td>\n",
       "      <td>2021-10-15 17:19:30 +0200</td>\n",
       "      <td>None</td>\n",
       "    </tr>\n",
       "    <tr>\n",
       "      <th>4</th>\n",
       "      <td>62</td>\n",
       "      <td>BodyMass</td>\n",
       "      <td>Sundhed</td>\n",
       "      <td>kg</td>\n",
       "      <td>2019-10-19 17:31:56 +0200</td>\n",
       "      <td>2019-10-19 17:31:56 +0200</td>\n",
       "      <td>None</td>\n",
       "    </tr>\n",
       "    <tr>\n",
       "      <th>5</th>\n",
       "      <td>75</td>\n",
       "      <td>BodyMass</td>\n",
       "      <td>Sundhed</td>\n",
       "      <td>kg</td>\n",
       "      <td>2021-10-15 17:19:30 +0200</td>\n",
       "      <td>2021-10-15 17:19:30 +0200</td>\n",
       "      <td>None</td>\n",
       "    </tr>\n",
       "  </tbody>\n",
       "</table>\n",
       "</div>"
      ],
      "text/plain": [
       "  value      type sourceName  unit                  startDate  \\\n",
       "1  None      None       None  None                       None   \n",
       "2   176    Height    Sundhed    cm  2019-10-19 17:31:56 +0200   \n",
       "3   179    Height    Sundhed    cm  2021-10-15 17:19:30 +0200   \n",
       "4    62  BodyMass    Sundhed    kg  2019-10-19 17:31:56 +0200   \n",
       "5    75  BodyMass    Sundhed    kg  2021-10-15 17:19:30 +0200   \n",
       "\n",
       "                     endDate device  \n",
       "1                       None   None  \n",
       "2  2019-10-19 17:31:56 +0200   None  \n",
       "3  2021-10-15 17:19:30 +0200   None  \n",
       "4  2019-10-19 17:31:56 +0200   None  \n",
       "5  2021-10-15 17:19:30 +0200   None  "
      ]
     },
     "execution_count": 232,
     "metadata": {},
     "output_type": "execute_result"
    }
   ],
   "source": [
    "df.head(5)"
   ]
  },
  {
   "cell_type": "code",
   "execution_count": 221,
   "metadata": {},
   "outputs": [
    {
     "data": {
      "text/plain": [
       "1            8875\n",
       "2            1721\n",
       "8            1022\n",
       "3             889\n",
       "4             659\n",
       "             ... \n",
       "0.10949         1\n",
       "0.15535         1\n",
       "0.0366125       1\n",
       "0.20976         1\n",
       "0.4894          1\n",
       "Name: value, Length: 28802, dtype: int64"
      ]
     },
     "execution_count": 221,
     "metadata": {},
     "output_type": "execute_result"
    }
   ],
   "source": [
    "df[\"value\"].value_counts()"
   ]
  },
  {
   "cell_type": "code",
   "execution_count": 231,
   "metadata": {},
   "outputs": [
    {
     "name": "stdout",
     "output_type": "stream",
     "text": [
      "None\n",
      "HKCategoryValueSleepAnalysisInBed\n",
      "HKCategoryValueSleepAnalysisAsleep\n"
     ]
    }
   ],
   "source": [
    "for i in df[\"value\"].unique():\n",
    "    try:\n",
    "        float(i)\n",
    "    except:\n",
    "        print(i)"
   ]
  },
  {
   "cell_type": "code",
   "execution_count": 255,
   "metadata": {},
   "outputs": [],
   "source": [
    "sleep_df = df[(df[\"value\"]==\"HKCategoryValueSleepAnalysisInBed\")|(df[\"value\"]==\"HKCategoryValueSleepAnalysisAsleep\")].copy()"
   ]
  },
  {
   "cell_type": "code",
   "execution_count": 266,
   "metadata": {},
   "outputs": [
    {
     "data": {
      "text/html": [
       "<div>\n",
       "<style scoped>\n",
       "    .dataframe tbody tr th:only-of-type {\n",
       "        vertical-align: middle;\n",
       "    }\n",
       "\n",
       "    .dataframe tbody tr th {\n",
       "        vertical-align: top;\n",
       "    }\n",
       "\n",
       "    .dataframe thead th {\n",
       "        text-align: right;\n",
       "    }\n",
       "</style>\n",
       "<table border=\"1\" class=\"dataframe\">\n",
       "  <thead>\n",
       "    <tr style=\"text-align: right;\">\n",
       "      <th></th>\n",
       "      <th>value</th>\n",
       "      <th>type</th>\n",
       "      <th>sourceName</th>\n",
       "      <th>unit</th>\n",
       "      <th>startDate</th>\n",
       "      <th>endDate</th>\n",
       "      <th>device</th>\n",
       "    </tr>\n",
       "  </thead>\n",
       "  <tbody>\n",
       "    <tr>\n",
       "      <th>116800</th>\n",
       "      <td>HKCategoryValueSleepAnalysisInBed</td>\n",
       "      <td>SleepAnalysis</td>\n",
       "      <td>Ur</td>\n",
       "      <td>None</td>\n",
       "      <td>2017-02-28 00:51:44+02:00</td>\n",
       "      <td>2017-02-28 08:25:56+02:00</td>\n",
       "      <td>iPhone</td>\n",
       "    </tr>\n",
       "    <tr>\n",
       "      <th>116801</th>\n",
       "      <td>HKCategoryValueSleepAnalysisInBed</td>\n",
       "      <td>SleepAnalysis</td>\n",
       "      <td>Ur</td>\n",
       "      <td>None</td>\n",
       "      <td>2017-12-03 22:58:24+02:00</td>\n",
       "      <td>2017-12-04 07:51:44+02:00</td>\n",
       "      <td>iPhone</td>\n",
       "    </tr>\n",
       "    <tr>\n",
       "      <th>116802</th>\n",
       "      <td>HKCategoryValueSleepAnalysisInBed</td>\n",
       "      <td>SleepAnalysis</td>\n",
       "      <td>Ur</td>\n",
       "      <td>None</td>\n",
       "      <td>2017-12-04 07:51:48+02:00</td>\n",
       "      <td>2017-12-04 08:05:08+02:00</td>\n",
       "      <td>iPhone</td>\n",
       "    </tr>\n",
       "  </tbody>\n",
       "</table>\n",
       "</div>"
      ],
      "text/plain": [
       "                                    value           type sourceName  unit  \\\n",
       "116800  HKCategoryValueSleepAnalysisInBed  SleepAnalysis         Ur  None   \n",
       "116801  HKCategoryValueSleepAnalysisInBed  SleepAnalysis         Ur  None   \n",
       "116802  HKCategoryValueSleepAnalysisInBed  SleepAnalysis         Ur  None   \n",
       "\n",
       "                       startDate                   endDate  device  \n",
       "116800 2017-02-28 00:51:44+02:00 2017-02-28 08:25:56+02:00  iPhone  \n",
       "116801 2017-12-03 22:58:24+02:00 2017-12-04 07:51:44+02:00  iPhone  \n",
       "116802 2017-12-04 07:51:48+02:00 2017-12-04 08:05:08+02:00  iPhone  "
      ]
     },
     "execution_count": 266,
     "metadata": {},
     "output_type": "execute_result"
    }
   ],
   "source": [
    "sleep_df.head(3)"
   ]
  },
  {
   "cell_type": "code",
   "execution_count": 264,
   "metadata": {
    "scrolled": true
   },
   "outputs": [
    {
     "data": {
      "image/png": "[encoded data removed]",
      "text/plain": [
       "<Figure size 432x288 with 1 Axes>"
      ]
     },
     "metadata": {
      "needs_background": "light"
     },
     "output_type": "display_data"
    }
   ],
   "source": [
    "for index,val in enumerate(sleep_df[\"value\"].unique()):\n",
    "    plt.scatter(x = sleep_df[sleep_df[\"value\"]==val][\"startDate\"],\n",
    "                y = [index]*len(sleep_df[sleep_df[\"value\"]==val]))"
   ]
  },
  {
   "cell_type": "code",
   "execution_count": 284,
   "metadata": {},
   "outputs": [],
   "source": [
    "step_df = df[df[\"type\"]==\"StepCount\"].copy()"
   ]
  },
  {
   "cell_type": "code",
   "execution_count": 285,
   "metadata": {},
   "outputs": [],
   "source": [
    "step_df[\"value\"] = pd.to_numeric(step_df[\"value\"])"
   ]
  },
  {
   "cell_type": "code",
   "execution_count": 291,
   "metadata": {},
   "outputs": [
    {
     "data": {
      "text/plain": [
       "[<matplotlib.lines.Line2D at 0x7ff460fc1f10>]"
      ]
     },
     "execution_count": 291,
     "metadata": {},
     "output_type": "execute_result"
    },
    {
     "data": {
      "image/png": "[encoded data removed]",
      "text/plain": [
       "<Figure size 432x288 with 1 Axes>"
      ]
     },
     "metadata": {
      "needs_background": "light"
     },
     "output_type": "display_data"
    }
   ],
   "source": [
    "plt.plot(step_df[\"startDate\"],step_df[\"value\"])"
   ]
  },
  {
   "cell_type": "code",
   "execution_count": 283,
   "metadata": {},
   "outputs": [],
   "source": [
    "step_df[\"value\"] = pd.to_numeric(step_df[\"value\"])"
   ]
  },
  {
   "cell_type": "code",
   "execution_count": 330,
   "metadata": {},
   "outputs": [
    {
     "data": {
      "text/plain": [
       "array(['Height', 'BodyMass', 'StepCount', 'DistanceWalkingRunning',\n",
       "       'FlightsClimbed', 'HeadphoneAudioExposure',\n",
       "       'WalkingDoubleSupportPercentage', 'WalkingSpeed',\n",
       "       'WalkingStepLength', 'WalkingAsymmetryPercentage', 'SleepAnalysis'],\n",
       "      dtype=object)"
      ]
     },
     "execution_count": 330,
     "metadata": {},
     "output_type": "execute_result"
    }
   ],
   "source": [
    "df[\"type\"].unique()"
   ]
  },
  {
   "cell_type": "code",
   "execution_count": 336,
   "metadata": {
    "scrolled": false
   },
   "outputs": [
    {
     "data": {
      "image/png": "[encoded data removed]",
      "text/plain": [
       "<Figure size 720x576 with 3 Axes>"
      ]
     },
     "metadata": {
      "needs_background": "light"
     },
     "output_type": "display_data"
    }
   ],
   "source": [
    "fig, ax = plt.subplots(3,1,figsize=(10,8),sharex=True)\n",
    "num = 1\n",
    "for i in [\"StepCount\",\"DistanceWalkingRunning\"]:\n",
    "    (df[df[\"type\"]==i].set_index(\"startDate\")[\"value\"].apply(float).groupby(pd.Grouper(freq=\"4W\",)).sum()/28).plot(ax=ax[num])\n",
    "    ax[num].set_title(i)\n",
    "    num+=1\n",
    "    \n",
    "df[df[\"type\"]==i].set_index(\"startDate\")[\"value\"].apply(float).groupby(pd.Grouper(freq=\"4W\",)).sum()/28).plot(ax=ax[num])\n",
    "    ax[num].set_title(i)\n",
    "    \n",
    "plt.tight_layout()"
   ]
  },
  {
   "cell_type": "code",
   "execution_count": 311,
   "metadata": {},
   "outputs": [
    {
     "data": {
      "text/plain": [
       "array(['Height', 'BodyMass', 'StepCount', 'DistanceWalkingRunning',\n",
       "       'FlightsClimbed', 'HeadphoneAudioExposure',\n",
       "       'WalkingDoubleSupportPercentage', 'WalkingSpeed',\n",
       "       'WalkingStepLength', 'WalkingAsymmetryPercentage', 'SleepAnalysis'],\n",
       "      dtype=object)"
      ]
     },
     "execution_count": 311,
     "metadata": {},
     "output_type": "execute_result"
    }
   ],
   "source": [
    "df[\"type\"].unique()"
   ]
  },
  {
   "cell_type": "code",
   "execution_count": 305,
   "metadata": {},
   "outputs": [
    {
     "data": {
      "text/plain": [
       "<AxesSubplot:xlabel='startDate'>"
      ]
     },
     "execution_count": 305,
     "metadata": {},
     "output_type": "execute_result"
    },
    {
     "data": {
      "image/png": "[encoded data removed]",
      "text/plain": [
       "<Figure size 432x288 with 1 Axes>"
      ]
     },
     "metadata": {
      "needs_background": "light"
     },
     "output_type": "display_data"
    }
   ],
   "source": [
    "\n",
    "\n",
    "(step_df.set_index(\"startDate\").groupby(pd.Grouper(freq=\"4W\",)).sum()/28).plot()"
   ]
  },
  {
   "cell_type": "code",
   "execution_count": 294,
   "metadata": {},
   "outputs": [
    {
     "data": {
      "text/html": [
       "<div>\n",
       "<style scoped>\n",
       "    .dataframe tbody tr th:only-of-type {\n",
       "        vertical-align: middle;\n",
       "    }\n",
       "\n",
       "    .dataframe tbody tr th {\n",
       "        vertical-align: top;\n",
       "    }\n",
       "\n",
       "    .dataframe thead th {\n",
       "        text-align: right;\n",
       "    }\n",
       "</style>\n",
       "<table border=\"1\" class=\"dataframe\">\n",
       "  <thead>\n",
       "    <tr style=\"text-align: right;\">\n",
       "      <th></th>\n",
       "      <th>value</th>\n",
       "      <th>type</th>\n",
       "      <th>sourceName</th>\n",
       "      <th>unit</th>\n",
       "      <th>startDate</th>\n",
       "      <th>endDate</th>\n",
       "      <th>device</th>\n",
       "    </tr>\n",
       "  </thead>\n",
       "  <tbody>\n",
       "    <tr>\n",
       "      <th>6</th>\n",
       "      <td>69</td>\n",
       "      <td>StepCount</td>\n",
       "      <td>Matthes</td>\n",
       "      <td>count</td>\n",
       "      <td>2017-02-01 08:46:01+02:00</td>\n",
       "      <td>2017-02-01 08:54:41+02:00</td>\n",
       "      <td>iPhone</td>\n",
       "    </tr>\n",
       "    <tr>\n",
       "      <th>7</th>\n",
       "      <td>46</td>\n",
       "      <td>StepCount</td>\n",
       "      <td>Matthes</td>\n",
       "      <td>count</td>\n",
       "      <td>2017-02-01 09:16:56+02:00</td>\n",
       "      <td>2017-02-01 09:26:04+02:00</td>\n",
       "      <td>iPhone</td>\n",
       "    </tr>\n",
       "    <tr>\n",
       "      <th>8</th>\n",
       "      <td>195</td>\n",
       "      <td>StepCount</td>\n",
       "      <td>Matthes</td>\n",
       "      <td>count</td>\n",
       "      <td>2017-02-01 09:26:04+02:00</td>\n",
       "      <td>2017-02-01 09:32:22+02:00</td>\n",
       "      <td>iPhone</td>\n",
       "    </tr>\n",
       "    <tr>\n",
       "      <th>9</th>\n",
       "      <td>388</td>\n",
       "      <td>StepCount</td>\n",
       "      <td>Matthes</td>\n",
       "      <td>count</td>\n",
       "      <td>2017-02-01 09:38:36+02:00</td>\n",
       "      <td>2017-02-01 09:48:35+02:00</td>\n",
       "      <td>iPhone</td>\n",
       "    </tr>\n",
       "    <tr>\n",
       "      <th>10</th>\n",
       "      <td>155</td>\n",
       "      <td>StepCount</td>\n",
       "      <td>Matthes</td>\n",
       "      <td>count</td>\n",
       "      <td>2017-02-01 09:48:35+02:00</td>\n",
       "      <td>2017-02-01 09:50:34+02:00</td>\n",
       "      <td>iPhone</td>\n",
       "    </tr>\n",
       "    <tr>\n",
       "      <th>...</th>\n",
       "      <td>...</td>\n",
       "      <td>...</td>\n",
       "      <td>...</td>\n",
       "      <td>...</td>\n",
       "      <td>...</td>\n",
       "      <td>...</td>\n",
       "      <td>...</td>\n",
       "    </tr>\n",
       "    <tr>\n",
       "      <th>41833</th>\n",
       "      <td>316</td>\n",
       "      <td>StepCount</td>\n",
       "      <td>iPhone 13 Pro</td>\n",
       "      <td>count</td>\n",
       "      <td>2022-05-20 11:06:11+02:00</td>\n",
       "      <td>2022-05-20 11:09:00+02:00</td>\n",
       "      <td>iPhone</td>\n",
       "    </tr>\n",
       "    <tr>\n",
       "      <th>41834</th>\n",
       "      <td>373</td>\n",
       "      <td>StepCount</td>\n",
       "      <td>iPhone 13 Pro</td>\n",
       "      <td>count</td>\n",
       "      <td>2022-05-20 11:27:10+02:00</td>\n",
       "      <td>2022-05-20 11:37:11+02:00</td>\n",
       "      <td>iPhone</td>\n",
       "    </tr>\n",
       "    <tr>\n",
       "      <th>41835</th>\n",
       "      <td>802</td>\n",
       "      <td>StepCount</td>\n",
       "      <td>iPhone 13 Pro</td>\n",
       "      <td>count</td>\n",
       "      <td>2022-05-20 11:37:11+02:00</td>\n",
       "      <td>2022-05-20 11:45:53+02:00</td>\n",
       "      <td>iPhone</td>\n",
       "    </tr>\n",
       "    <tr>\n",
       "      <th>41836</th>\n",
       "      <td>124</td>\n",
       "      <td>StepCount</td>\n",
       "      <td>iPhone 13 Pro</td>\n",
       "      <td>count</td>\n",
       "      <td>2022-05-20 11:47:22+02:00</td>\n",
       "      <td>2022-05-20 11:49:33+02:00</td>\n",
       "      <td>iPhone</td>\n",
       "    </tr>\n",
       "    <tr>\n",
       "      <th>41837</th>\n",
       "      <td>64</td>\n",
       "      <td>StepCount</td>\n",
       "      <td>iPhone 13 Pro</td>\n",
       "      <td>count</td>\n",
       "      <td>2022-05-20 12:18:01+02:00</td>\n",
       "      <td>2022-05-20 12:19:40+02:00</td>\n",
       "      <td>iPhone</td>\n",
       "    </tr>\n",
       "  </tbody>\n",
       "</table>\n",
       "<p>41832 rows × 7 columns</p>\n",
       "</div>"
      ],
      "text/plain": [
       "       value       type     sourceName   unit                 startDate  \\\n",
       "6         69  StepCount        Matthes  count 2017-02-01 08:46:01+02:00   \n",
       "7         46  StepCount        Matthes  count 2017-02-01 09:16:56+02:00   \n",
       "8        195  StepCount        Matthes  count 2017-02-01 09:26:04+02:00   \n",
       "9        388  StepCount        Matthes  count 2017-02-01 09:38:36+02:00   \n",
       "10       155  StepCount        Matthes  count 2017-02-01 09:48:35+02:00   \n",
       "...      ...        ...            ...    ...                       ...   \n",
       "41833    316  StepCount  iPhone 13 Pro  count 2022-05-20 11:06:11+02:00   \n",
       "41834    373  StepCount  iPhone 13 Pro  count 2022-05-20 11:27:10+02:00   \n",
       "41835    802  StepCount  iPhone 13 Pro  count 2022-05-20 11:37:11+02:00   \n",
       "41836    124  StepCount  iPhone 13 Pro  count 2022-05-20 11:47:22+02:00   \n",
       "41837     64  StepCount  iPhone 13 Pro  count 2022-05-20 12:18:01+02:00   \n",
       "\n",
       "                        endDate  device  \n",
       "6     2017-02-01 08:54:41+02:00  iPhone  \n",
       "7     2017-02-01 09:26:04+02:00  iPhone  \n",
       "8     2017-02-01 09:32:22+02:00  iPhone  \n",
       "9     2017-02-01 09:48:35+02:00  iPhone  \n",
       "10    2017-02-01 09:50:34+02:00  iPhone  \n",
       "...                         ...     ...  \n",
       "41833 2022-05-20 11:09:00+02:00  iPhone  \n",
       "41834 2022-05-20 11:37:11+02:00  iPhone  \n",
       "41835 2022-05-20 11:45:53+02:00  iPhone  \n",
       "41836 2022-05-20 11:49:33+02:00  iPhone  \n",
       "41837 2022-05-20 12:19:40+02:00  iPhone  \n",
       "\n",
       "[41832 rows x 7 columns]"
      ]
     },
     "execution_count": 294,
     "metadata": {},
     "output_type": "execute_result"
    }
   ],
   "source": [
    "step_df"
   ]
  },
  {
   "cell_type": "code",
   "execution_count": null,
   "metadata": {},
   "outputs": [],
   "source": []
  }
 ],
 "metadata": {
  "kernelspec": {
   "display_name": "Python 3",
   "language": "python",
   "name": "python3"
  },
  "language_info": {
   "codemirror_mode": {
    "name": "ipython",
    "version": 3
   },
   "file_extension": ".py",
   "mimetype": "text/x-python",
   "name": "python",
   "nbconvert_exporter": "python",
   "pygments_lexer": "ipython3",
   "version": "3.8.5"
  }
 },
 "nbformat": 4,
 "nbformat_minor": 4
}
