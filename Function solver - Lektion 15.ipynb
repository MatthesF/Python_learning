{
 "cells": [
  {
   "cell_type": "code",
   "execution_count": 268,
   "metadata": {},
   "outputs": [],
   "source": [
    "import numpy as np\n",
    "import matplotlib.pyplot as plt\n",
    "\n",
    "def f(x):\n",
    "    return x**2-3\n",
    "\n",
    "def bisection(f,a,b,tol=10e-3,max_itr=50):\n",
    "    itr = 0\n",
    "    \n",
    "    try:\n",
    "        assert np.sign(f(a)) != np.sign(f(b)) , 'bad'\n",
    "        while abs(a-b)>tol and itr<=max_itr:\n",
    "            itr +=1\n",
    "            m = (a+b)/2\n",
    "            if np.sign(f(m)) == np.sign(f(a)):\n",
    "                a = m\n",
    "            else:\n",
    "                b = m\n",
    "        return m,itr\n",
    "    except AssertionError:\n",
    "        print(\"f(a) and f(b) has same sign\")\n",
    "        a = a*np.random.randn()\n",
    "        return bisection(f,a,b,tol,max_itr)\n",
    "        \n",
    "\n",
    "def newton_rapson(f,x0,tol=0.001,max_iter=10):\n",
    "    itr = 0\n",
    "    old_0x = 0\n",
    "    while abs(x0-old_0x)>tol and itr<=max_iter:\n",
    "        itr +=1\n",
    "        delta = 0.0000001\n",
    "        grad = (f(x0+delta)-f(x0))/delta\n",
    "        old_0x = x0\n",
    "        x0 = x0-f(x0)/grad\n",
    "    return x0,itr\n",
    "    "
   ]
  },
  {
   "cell_type": "code",
   "execution_count": 269,
   "metadata": {
    "scrolled": false
   },
   "outputs": [
    {
     "data": {
      "text/plain": [
       "(1, 1)"
      ]
     },
     "execution_count": 269,
     "metadata": {},
     "output_type": "execute_result"
    }
   ],
   "source": [
    "a = -2\n",
    "b = 2\n",
    "f(a),f(b)"
   ]
  },
  {
   "cell_type": "code",
   "execution_count": 270,
   "metadata": {},
   "outputs": [
    {
     "name": "stdout",
     "output_type": "stream",
     "text": [
      "f(a) and f(b) has same sign\n",
      "f(a) and f(b) has same sign\n"
     ]
    },
    {
     "data": {
      "text/plain": [
       "((1.733880037723655, 8), (-1.732050810012061, 3))"
      ]
     },
     "execution_count": 270,
     "metadata": {},
     "output_type": "execute_result"
    }
   ],
   "source": [
    "bisection(f,a,b), newton_rapson(f,a,max_iter=100)"
   ]
  },
  {
   "cell_type": "code",
   "execution_count": 267,
   "metadata": {},
   "outputs": [
    {
     "data": {
      "image/png": "[encoded data removed]",
      "text/plain": [
       "<Figure size 432x288 with 1 Axes>"
      ]
     },
     "metadata": {
      "needs_background": "light"
     },
     "output_type": "display_data"
    }
   ],
   "source": [
    "x = np.linspace(-3,3,100)\n",
    "plt.plot(x,f(x))\n",
    "plt.grid(True)"
   ]
  },
  {
   "cell_type": "code",
   "execution_count": 225,
   "metadata": {},
   "outputs": [
    {
     "data": {
      "image/png": "[encoded data removed]",
      "text/plain": [
       "<Figure size 432x288 with 1 Axes>"
      ]
     },
     "metadata": {
      "needs_background": "light"
     },
     "output_type": "display_data"
    }
   ],
   "source": [
    "plt.hist(np.random.randn((10000)),bins=100);"
   ]
  },
  {
   "cell_type": "code",
   "execution_count": null,
   "metadata": {},
   "outputs": [],
   "source": []
  }
 ],
 "metadata": {
  "kernelspec": {
   "display_name": "Python 3",
   "language": "python",
   "name": "python3"
  },
  "language_info": {
   "codemirror_mode": {
    "name": "ipython",
    "version": 3
   },
   "file_extension": ".py",
   "mimetype": "text/x-python",
   "name": "python",
   "nbconvert_exporter": "python",
   "pygments_lexer": "ipython3",
   "version": "3.8.5"
  }
 },
 "nbformat": 4,
 "nbformat_minor": 4
}
