{
 "cells": [
  {
   "cell_type": "markdown",
   "metadata": {},
   "source": [
    "# Planetary orbit\n",
    "\n",
    "We want a sun and a single planet\n",
    "\n",
    "The attraction between these two bodies is described by :\n",
    "\n",
    "$$F = G \\frac{mM}{R^2},$$\n",
    "\n",
    "in whis $F$ is the force, $G$ is the gravitational contant, $m$ and $M$ are the masses of the bodies and $R$ is the distance spperating the bodies.\n",
    "\n",
    "It should also be noted: Newton's second law read:\n",
    "$$F=ma$$\n",
    "in which $a$ is the acceleration.\n",
    "To work on this problem we need to discretize time.\n",
    "(at first, the sun can be taken to be still)"
   ]
  },
  {
   "cell_type": "code",
   "execution_count": 2,
   "metadata": {},
   "outputs": [],
   "source": [
    "import matplotlib.pyplot as plt\n",
    "import numpy as np"
   ]
  },
  {
   "cell_type": "code",
   "execution_count": 13,
   "metadata": {},
   "outputs": [
    {
     "data": {
      "text/plain": [
       "<matplotlib.collections.PathCollection at 0x7f85bbd80b80>"
      ]
     },
     "execution_count": 13,
     "metadata": {},
     "output_type": "execute_result"
    },
    {
     "data": {
      "image/png": "[encoded data removed]",
      "text/plain": [
       "<Figure size 432x288 with 1 Axes>"
      ]
     },
     "metadata": {
      "needs_background": "light"
     },
     "output_type": "display_data"
    }
   ],
   "source": [
    "planet_x,planet_y=5,5\n",
    "sun_x,sun_y = 1,1\n",
    "plt.scatter(planet_x,planet_y,s=m)\n",
    "plt.scatter(sun_x,sun_y,s=M)"
   ]
  },
  {
   "cell_type": "code",
   "execution_count": 146,
   "metadata": {},
   "outputs": [
    {
     "data": {
      "image/png": "[encoded data removed]",
      "text/plain": [
       "<Figure size 576x288 with 2 Axes>"
      ]
     },
     "metadata": {
      "needs_background": "light"
     },
     "output_type": "display_data"
    }
   ],
   "source": [
    "m, M = 1, 100\n",
    "\n",
    "X,Y = [0],[0]\n",
    "\n",
    "x,y = [100],[0]\n",
    "\n",
    "G = 2\n",
    "\n",
    "v_x, v_y = [-0.5],[1.5]\n",
    "\n",
    "dt = 1\n",
    "\n",
    "time = np.arange(0,500,dt)\n",
    "\n",
    "fig, ax = plt.subplots(1,2, figsize=(8,4))\n",
    "\n",
    "ax[0].scatter(X,Y,s=20*M**.3,c=\"orange\")\n",
    "ax[0].scatter(x,y,s=20*m**.3,c=\"b\")\n",
    "\n",
    "ax[0].set_ylim(-120,120)\n",
    "ax[0].set_xlim(-120,120)\n",
    "\n",
    "for i in range(len(time)):\n",
    "\n",
    "    dx = X[0]-x[i]\n",
    "    dy = Y[0]-y[i]\n",
    "\n",
    "    R = np.sqrt(dx**2+dy**2)\n",
    "\n",
    "    F = G * m*M/R**2\n",
    "    \n",
    "    angle = np.arctan(dx/(dy+0.00000001))\n",
    "    F_x = np.cos(angle) * F\n",
    "    F_y = np.sin(angle) * F\n",
    "    \n",
    "    \n",
    "    a_x = np.sign(dx)*F_x/m\n",
    "    a_y = np.sign(dx)*F_y/m\n",
    "    \n",
    "    v_x_new = v_x[i] + a_x*dt\n",
    "    v_y_new = v_y[i] + a_y*dt\n",
    "    \n",
    "    v_x.append(v_x_new)\n",
    "    v_y.append(v_y_new)\n",
    "    \n",
    "    x_new = x[i] + v_x_new*dt\n",
    "    y_new = y[i] + v_y_new*dt\n",
    "    \n",
    "    x.append(x_new)\n",
    "    y.append(y_new)   \n",
    "    \n",
    "    ax[0].scatter(x_new,y_new,c=\"black\")\n"
   ]
  },
  {
   "cell_type": "code",
   "execution_count": 60,
   "metadata": {},
   "outputs": [
    {
     "data": {
      "text/plain": [
       "[100,\n",
       " 100.0,\n",
       " 99.99899020096899,\n",
       " 99.99409665883688,\n",
       " 99.98094138543702,\n",
       " 99.95409076013786,\n",
       " 99.90749786608198,\n",
       " 99.8348748865159,\n",
       " 99.72996855329936,\n",
       " 99.58673967573563,\n",
       " 99.3994627431511]"
      ]
     },
     "execution_count": 60,
     "metadata": {},
     "output_type": "execute_result"
    }
   ],
   "source": [
    "x"
   ]
  },
  {
   "cell_type": "code",
   "execution_count": 58,
   "metadata": {},
   "outputs": [
    {
     "data": {
      "text/plain": [
       "[0,\n",
       " 9.9,\n",
       " 19.899029412725874,\n",
       " 29.994248136882526,\n",
       " 40.181203205797125,\n",
       " 50.454229492406725,\n",
       " 60.80690676629972,\n",
       " 71.23249124555674,\n",
       " 81.7242680566671,\n",
       " 92.27580402078507,\n",
       " 102.88110527560048]"
      ]
     },
     "execution_count": 58,
     "metadata": {},
     "output_type": "execute_result"
    }
   ],
   "source": [
    "y"
   ]
  },
  {
   "cell_type": "code",
   "execution_count": null,
   "metadata": {},
   "outputs": [],
   "source": []
  }
 ],
 "metadata": {
  "kernelspec": {
   "display_name": "Python 3",
   "language": "python",
   "name": "python3"
  },
  "language_info": {
   "codemirror_mode": {
    "name": "ipython",
    "version": 3
   },
   "file_extension": ".py",
   "mimetype": "text/x-python",
   "name": "python",
   "nbconvert_exporter": "python",
   "pygments_lexer": "ipython3",
   "version": "3.8.5"
  }
 },
 "nbformat": 4,
 "nbformat_minor": 4
}
