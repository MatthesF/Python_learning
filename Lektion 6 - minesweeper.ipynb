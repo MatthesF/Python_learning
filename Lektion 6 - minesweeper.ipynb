{
 "cells": [
  {
   "cell_type": "code",
   "execution_count": 175,
   "metadata": {},
   "outputs": [],
   "source": [
    "import numpy as np\n",
    "import matplotlib.pyplot as plt"
   ]
  },
  {
   "cell_type": "code",
   "execution_count": null,
   "metadata": {},
   "outputs": [],
   "source": [
    "def make_bomb_field(width=8,height=8,num_bombs=5):\n",
    "    array = np.zeros(64,dtype=int).reshape(width,height)\n",
    "    for i in range(num_bombs):\n",
    "        x_random = np.random.randint(0,width)\n",
    "        y_random = np.random.randint(0,height)\n",
    "        array[x_random, y_random]= 10\n",
    "    return array\n",
    "\n",
    "def make_field():\n",
    "    array = np.zeros(64,dtype=int).reshape(8,8)\n",
    "    return array\n",
    "\n",
    "def find_neighbours(i,j,array,height,width):\n",
    "\n",
    "    i_min = i-1\n",
    "    i_max = i+2\n",
    "\n",
    "    j_min = j-1\n",
    "    j_max = j+2\n",
    "\n",
    "    if i_min<0:\n",
    "        i_min=0\n",
    "\n",
    "    elif i_max > height:\n",
    "        i_max = height\n",
    "\n",
    "    if j_max > width:\n",
    "        j_max = width\n",
    "\n",
    "    elif j_min<0:\n",
    "            j_min=0\n",
    "\n",
    "    neighbours = (np.sum(array[i_min:i_max,j_min:j_max])-array[i,j])/10\n",
    "    return neighbours\n",
    "\n",
    "def neighbour_count_array(height,width,bomb_array):\n",
    "    array = np.zeros(bomb_array.shape)\n",
    "    for i in range(height):\n",
    "        for j in range(width):\n",
    "            \n",
    "            array[i,j]=find_neighbours(i,j,bomb_array,height,width)\n",
    "    return array\n"
   ]
  },
  {
   "cell_type": "code",
   "execution_count": 193,
   "metadata": {},
   "outputs": [
    {
     "name": "stdout",
     "output_type": "stream",
     "text": [
      "[[ 0  0  0 10  0  0  0  0]\n",
      " [ 0  0 10  0  0  0  0  0]\n",
      " [10  0  0  0  0 10  0 10]\n",
      " [ 0  0  0  0 10  0  0  0]\n",
      " [10  0 10  0  0  0  0  0]\n",
      " [10  0  0  0  0 10  0  0]\n",
      " [ 0  0  0  0  0  0  0  0]\n",
      " [ 0  0  0  0  0  0  0  0]]\n"
     ]
    },
    {
     "data": {
      "text/plain": [
       "array([[0., 1., 2., 1., 1., 0., 0., 0.],\n",
       "       [1., 2., 1., 2., 2., 1., 2., 1.],\n",
       "       [0., 2., 1., 2., 2., 1., 2., 0.],\n",
       "       [2., 3., 1., 2., 1., 2., 2., 1.],\n",
       "       [1., 3., 0., 2., 2., 2., 1., 0.],\n",
       "       [1., 3., 1., 1., 1., 0., 1., 0.],\n",
       "       [1., 1., 0., 0., 1., 1., 1., 0.],\n",
       "       [0., 0., 0., 0., 0., 0., 0., 0.]])"
      ]
     },
     "execution_count": 193,
     "metadata": {},
     "output_type": "execute_result"
    }
   ],
   "source": [
    "bomb_array = make_bomb_field()\n",
    "array = make_field()\n",
    "print(bomb_array)\n",
    "\n",
    "def neighbour_count_array(height,width,bomb_array):\n",
    "    array = np.zeros(bomb_array.shape)\n",
    "    for i in range(height):\n",
    "        for j in range(width):\n",
    "            array[i,j]=find_neighbours(i,j,bomb_array,height,width)\n",
    "    return array\n",
    "\n",
    "neighbour_count_array(8,8,bomb_array)"
   ]
  },
  {
   "cell_type": "code",
   "execution_count": 187,
   "metadata": {},
   "outputs": [
    {
     "name": "stdout",
     "output_type": "stream",
     "text": [
      "1,2\n",
      "1 2\n"
     ]
    },
    {
     "data": {
      "text/plain": [
       "array([[2, 2, 1, 1, 0, 1, 0, 0],\n",
       "       [1, 1, 1, 1, 1, 1, 0, 0],\n",
       "       [3, 3, 2, 1, 1, 1, 0, 0],\n",
       "       [2, 1, 1, 1, 0, 1, 0, 0],\n",
       "       [1, 2, 2, 2, 2, 1, 0, 0],\n",
       "       [2, 2, 2, 0, 1, 1, 1, 1],\n",
       "       [1, 0, 2, 1, 1, 1, 1, 2],\n",
       "       [1, 1, 1, 0, 0, 1, 2, 1]])"
      ]
     },
     "execution_count": 187,
     "metadata": {},
     "output_type": "execute_result"
    }
   ],
   "source": [
    "i,j = [int(i) for i in input().split(\",\")]\n",
    "\n",
    "neighbour_count_array\n"
   ]
  },
  {
   "cell_type": "code",
   "execution_count": 180,
   "metadata": {},
   "outputs": [
    {
     "data": {
      "text/plain": [
       "<matplotlib.image.AxesImage at 0x7fe02803be80>"
      ]
     },
     "execution_count": 180,
     "metadata": {},
     "output_type": "execute_result"
    },
    {
     "data": {
      "image/png": "[encoded data removed]",
      "text/plain": [
       "<Figure size 432x288 with 2 Axes>"
      ]
     },
     "metadata": {
      "needs_background": "light"
     },
     "output_type": "display_data"
    }
   ],
   "source": [
    "fig, ax = plt.subplots(1,2)\n",
    "ax[0].imshow(array)\n",
    "ax[1].imshow(bomb_array)\n",
    "\n"
   ]
  },
  {
   "cell_type": "code",
   "execution_count": 213,
   "metadata": {},
   "outputs": [],
   "source": [
    "height,width = 8,8\n",
    "bomb_field = make_bomb_field(num_bombs=2)\n",
    "count_field = neighbour_count_array(height,width,bomb_field)\n",
    "front_end_field = np.zeros((height,width),dtype=int)"
   ]
  },
  {
   "cell_type": "code",
   "execution_count": null,
   "metadata": {},
   "outputs": [
    {
     "name": "stdout",
     "output_type": "stream",
     "text": [
      "Please enter a coordinate  3,3\n",
      "[[-1 -1 -1 -1 -1 -1 -1 -1]\n",
      " [-1 -1 -1 -1 -1 -1 -1 -1]\n",
      " [-1 -1 -1 -1 -1 -1 -1 -1]\n",
      " [-1 -1 -1  0 -1 -1 -1 -1]\n",
      " [-1 -1 -1 -1 -1 -1 -1 -1]\n",
      " [-1 -1 -1 -1 -1 -1 -1 -1]\n",
      " [-1 -1 -1 -1 -1 -1 -1 -1]\n",
      " [-1 -1 -1 -1 -1 -1 -1 -1]]\n"
     ]
    }
   ],
   "source": [
    "height,width = 8,8\n",
    "bomb_field = make_bomb_field(num_bombs=2)\n",
    "count_field = neighbour_count_array(height,width,bomb_field)\n",
    "front_end_field = np.ones((height,width),dtype=int)*-1\n",
    "#print(count_field)\n",
    "\n",
    "game_on = True\n",
    "while game_on == True:\n",
    "    i,j = [int(i) for i in input(\"Please enter a coordinate  \").split(\",\")]\n",
    "\n",
    "    if count_field[i,j]==0:\n",
    "        front_end_field[i,j]=count_field[i,j]\n",
    "        print(front_end_field)\n",
    "        \n",
    "    else:\n",
    "        front_end_field[i,j]=count_field[i,j]\n",
    "        print(\"BOMB! You lost!\")\n",
    "        game_on=False"
   ]
  },
  {
   "cell_type": "code",
   "execution_count": null,
   "metadata": {},
   "outputs": [],
   "source": []
  }
 ],
 "metadata": {
  "kernelspec": {
   "display_name": "Python 3",
   "language": "python",
   "name": "python3"
  },
  "language_info": {
   "codemirror_mode": {
    "name": "ipython",
    "version": 3
   },
   "file_extension": ".py",
   "mimetype": "text/x-python",
   "name": "python",
   "nbconvert_exporter": "python",
   "pygments_lexer": "ipython3",
   "version": "3.8.5"
  }
 },
 "nbformat": 4,
 "nbformat_minor": 4
}
